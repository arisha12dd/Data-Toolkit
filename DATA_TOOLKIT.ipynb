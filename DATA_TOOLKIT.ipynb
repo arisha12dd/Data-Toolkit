{
  "nbformat": 4,
  "nbformat_minor": 0,
  "metadata": {
    "colab": {
      "provenance": []
    },
    "kernelspec": {
      "name": "python3",
      "display_name": "Python 3"
    },
    "language_info": {
      "name": "python"
    }
  },
  "cells": [
    {
      "cell_type": "markdown",
      "source": [
        "1.What is NumPy, and why is it widely used in Python?\n",
        "\n",
        "NumPy is a Python library used to handle large sets of numbers, especially arrays. It's super fast and great for doing math and scientific tasks easily.\n"
      ],
      "metadata": {
        "id": "_Uj5omJAtGk9"
      }
    },
    {
      "cell_type": "markdown",
      "source": [
        "2.How does broadcasting work in NumPy?\n",
        "\n",
        "Broadcasting lets NumPy work with arrays of different shapes without errors. It stretches smaller arrays so they can match the size of bigger ones during operations.\n",
        "\n"
      ],
      "metadata": {
        "id": "nhytyFPktGhm"
      }
    },
    {
      "cell_type": "markdown",
      "source": [
        "3.What is a Pandas DataFrame?\n",
        "\n",
        "A DataFrame is like a table with rows and columns, used to store and handle structured data. It makes it easy to analyze and clean data.\n",
        "\n"
      ],
      "metadata": {
        "id": "r7rhURRFtGeZ"
      }
    },
    {
      "cell_type": "markdown",
      "source": [
        "4.Explain the use of the groupby() method in Pandas?\n",
        "\n",
        "The groupby() method groups data based on some column and lets you do things like counting, averaging, or summing within each group.\n",
        "\n",
        "5.Why is Seaborn preferred for statistical visualizations?\n",
        "\n",
        "Seaborn makes beautiful charts easily and adds built-in support for statistical features like trends and distributions"
      ],
      "metadata": {
        "id": "RNMTSPkntGbP"
      }
    },
    {
      "cell_type": "markdown",
      "source": [
        "6.What are the differences between NumPy arrays and Python lists?\n",
        "\n",
        "NumPy arrays are faster, take up less space, and are better for math. Python lists are more flexible but not good for big data or heavy calculations.\n",
        "\n",
        "\n",
        "\n"
      ],
      "metadata": {
        "id": "lGNodxrotGXn"
      }
    },
    {
      "cell_type": "markdown",
      "source": [
        "7.What is a heatmap, and when should it be used?\n",
        "\n",
        "A heatmap is a colorful chart that shows numbers with color intensity. It's used when you want to see patterns or highlight highs and lows in data.\n",
        "\n"
      ],
      "metadata": {
        "id": "LQpL58BAtGTw"
      }
    },
    {
      "cell_type": "markdown",
      "source": [
        "8.What does the term “vectorized operation” mean in NumPy?\n",
        "\n",
        "It means doing operations on an entire array at once instead of using loops. It's quicker and cleaner.\n",
        "\n"
      ],
      "metadata": {
        "id": "ICBY_fLatGPj"
      }
    },
    {
      "cell_type": "markdown",
      "source": [
        "9.How does Matplotlib differ from Plotly?\n",
        "\n",
        "Matplotlib makes simple, static charts. Plotly creates interactive charts that you can click, zoom, and use in websites.\n",
        "\n",
        "\n",
        "\n",
        "\n",
        "\n",
        "\n",
        "\n",
        "\n",
        "\n",
        "\n"
      ],
      "metadata": {
        "id": "VoHLXW9SvV-Z"
      }
    },
    {
      "cell_type": "markdown",
      "source": [
        "10.What is the significance of hierarchical indexing in Pandas?\n",
        "\n",
        "Hierarchical indexing means using multiple levels of indexes. It's useful for working with more complex or grouped data in a structured way.\n",
        "\n",
        "\n"
      ],
      "metadata": {
        "id": "UavIV4H3vHSJ"
      }
    },
    {
      "cell_type": "markdown",
      "source": [
        "11.What is the role of Seaborn’s pairplot() function?\n",
        "\n",
        "Pairplot() creates a grid of plots to show relationships between all numeric columns. It's great for spotting patterns quickly."
      ],
      "metadata": {
        "id": "pPywuCwctGLr"
      }
    },
    {
      "cell_type": "markdown",
      "source": [
        "12.What is the purpose of the describe() function in Pandas?\n",
        "\n",
        "The describe() function gives quick stats about your data, like mean, min, max, and more, to help you understand it better.\n"
      ],
      "metadata": {
        "id": "Hr82DDevv-dI"
      }
    },
    {
      "cell_type": "markdown",
      "source": [
        "13.Why is handling missing data important in Pandas?\n",
        "\n",
        "Missing data can mess up your results. Handling it helps make your analysis accurate and complete.\n",
        "\n"
      ],
      "metadata": {
        "id": "BM0R85xJv-Zw"
      }
    },
    {
      "cell_type": "markdown",
      "source": [
        "14.What are the benefits of using Plotly for data visualization?\n",
        "\n",
        "Plotly lets you make interactive, nice-looking charts that work well in web apps and dashboards.\n",
        "\n"
      ],
      "metadata": {
        "id": "TMu4qscZv-Nn"
      }
    },
    {
      "cell_type": "markdown",
      "source": [
        "15.How does NumPy handle multidimensional arrays?\n",
        "\n",
        "NumPy stores data in arrays with many dimensions (like 2D, 3D, etc.) and gives tools to easily work with them.\n"
      ],
      "metadata": {
        "id": "-D6D-vk5v99p"
      }
    },
    {
      "cell_type": "markdown",
      "source": [
        "What is the role of Bokeh in data visualization?\n",
        "\n",
        "Bokeh helps you make interactive visualizations for the web. It’s useful for dashboards and sharing charts online.\n",
        "\n"
      ],
      "metadata": {
        "id": "23BqRErZw_-4"
      }
    },
    {
      "cell_type": "markdown",
      "source": [
        "17.Explain the difference between apply() and map() in Pandas?\n",
        "\n",
        "map() is for changing values in a Series (like a co\n",
        "lumn), while apply() works on both rows and columns and is more flexible.\n",
        "\n"
      ],
      "metadata": {
        "id": "Xjf3uO_nwtz6"
      }
    },
    {
      "cell_type": "markdown",
      "source": [
        "                 PRACTICAL QUESTIONS"
      ],
      "metadata": {
        "id": "BG4wL_MmxK2R"
      }
    },
    {
      "cell_type": "code",
      "source": [
        "1. How do you create a 2D NumPy array and calculate the sum of each row?\n",
        "import numpy as np\n",
        "\n",
        "arr = np.array([[1, 2, 3], [4, 5, 6], [7, 8, 9]])\n",
        "row_sums = np.sum(arr, axis=1)\n",
        "\n",
        "print(\"2D Array:\")\n",
        "print(arr)\n",
        "print(\"Sum of each row:\", row_sums)\n"
      ],
      "metadata": {
        "id": "ED3DY0xxxQ3x"
      },
      "execution_count": null,
      "outputs": []
    },
    {
      "cell_type": "code",
      "source": [
        "2. How can you write a Pandas script to find the mean of a specific column in a DataFrame?\n",
        "\n",
        "import pandas as pd\n",
        "\n",
        "data = {'Name': ['Alice', 'Bob', 'Charlie'],\n",
        "        'Score': [85, 90, 78]}\n",
        "df = pd.DataFrame(data)\n",
        "\n",
        "mean_score = df['Score'].mean()\n",
        "print(\"Mean of the 'Score' column:\", mean_score)"
      ],
      "metadata": {
        "id": "-FNP9mj-xSaY"
      },
      "execution_count": null,
      "outputs": []
    },
    {
      "cell_type": "code",
      "source": [
        "3. How do you create a scatter plot using Matplotlib?\n",
        "\n",
        "import matplotlib.pyplot as plt\n",
        "\n",
        "x = [1, 2, 3, 4, 5]\n",
        "y = [10, 15, 13, 18, 20]\n",
        "\n",
        "plt.scatter(x, y, color='blue')\n",
        "plt.title(\"Simple Scatter Plot\")\n",
        "plt.xlabel(\"X values\")\n",
        "plt.ylabel(\"Y values\")\n",
        "plt.grid(True)\n",
        "plt.show()"
      ],
      "metadata": {
        "id": "lty3KbWExSWq"
      },
      "execution_count": null,
      "outputs": []
    },
    {
      "cell_type": "code",
      "source": [
        "4. How do you calculate the correlation matrix using Seaborn and visualize it with a heatmap?\n",
        "\n",
        "import pandas as pd\n",
        "import seaborn as sns\n",
        "import matplotlib.pyplot as plt\n",
        "\n",
        "df = pd.DataFrame({\n",
        "    'A': [1, 2, 3, 4],\n",
        "    'B': [4, 3, 2, 1],\n",
        "    'C': [2, 3, 4, 5]\n",
        "})\n",
        "\n",
        "corr_matrix = df.corr()\n",
        "sns.heatmap(corr_matrix, annot=True, cmap='coolwarm')\n",
        "plt.title(\"Correlation Heatmap\")\n",
        "plt.show()"
      ],
      "metadata": {
        "id": "arZVDBxwxSTp"
      },
      "execution_count": null,
      "outputs": []
    },
    {
      "cell_type": "code",
      "source": [
        "5. How can you generate a bar plot using Plotly?\n",
        "import plotly.express as px\n",
        "\n",
        "data = {'Fruit': ['Apples', 'Oranges', 'Bananas'],\n",
        "        'Quantity': [10, 15, 7]}\n",
        "df = pd.DataFrame(data)\n",
        "\n",
        "fig = px.bar(df, x='Fruit', y='Quantity', title='Fruit Quantities')\n",
        "fig.show()\n",
        "\n"
      ],
      "metadata": {
        "id": "1McdFWNuxSQ3"
      },
      "execution_count": null,
      "outputs": []
    },
    {
      "cell_type": "code",
      "source": [
        "6. How do you create a DataFrame and add a new column based on an existing column?\n",
        "import pandas as pd\n",
        "\n",
        "df = pd.DataFrame({\n",
        "    'Name': ['Alice', 'Bob', 'Charlie'],\n",
        "    'Score': [80, 90, 70]\n",
        "})\n",
        "\n",
        "# Add a new column 'Passed' based on score\n",
        "df['Passed'] = df['Score'] >= 75\n",
        "\n",
        "print(df)\n"
      ],
      "metadata": {
        "id": "K6K3pXiexSN1"
      },
      "execution_count": null,
      "outputs": []
    },
    {
      "cell_type": "code",
      "source": [
        "7. How can you write a program to perform element-wise multiplication of two NumPy arrays?\n",
        "\n",
        "import numpy as np\n",
        "\n",
        "a = np.array([1, 2, 3])\n",
        "b = np.array([4, 5, 6])\n",
        "\n",
        "result = a * b\n",
        "print(\"Element-wise multiplication result:\", result)\n"
      ],
      "metadata": {
        "id": "kDT40z3UxSLM"
      },
      "execution_count": null,
      "outputs": []
    },
    {
      "cell_type": "code",
      "source": [
        "8. How do you create a line plot with multiple lines using Matplotlib?\n",
        "import matplotlib.pyplot as plt\n",
        "\n",
        "x = [1, 2, 3, 4, 5]\n",
        "y1 = [1, 4, 9, 16, 25]\n",
        "y2 = [25, 16, 9, 4, 1]\n",
        "\n",
        "plt.plot(x, y1, label='y1 = x^2')\n",
        "plt.plot(x, y2, label='y2 = reversed x^2', linestyle='--')\n",
        "plt.title(\"Multiple Line Plot\")\n",
        "plt.xlabel(\"X Axis\")\n",
        "plt.ylabel(\"Y Axis\")\n",
        "plt.legend()\n",
        "plt.grid(True)\n",
        "plt.show()"
      ],
      "metadata": {
        "id": "8CatwI1JxSIN"
      },
      "execution_count": null,
      "outputs": []
    },
    {
      "cell_type": "code",
      "source": [
        "9. How do you generate a Pandas DataFrame and filter rows where a column value is greater than a threshold?\n",
        "import pandas as pd\n",
        "\n",
        "df = pd.DataFrame({\n",
        "    'Name': ['Alice', 'Bob', 'Charlie'],\n",
        "    'Score': [65, 85, 90]\n",
        "})\n",
        "\n",
        "filtered_df = df[df['Score'] > 80]\n",
        "print(\"Rows where Score > 80:\")\n",
        "print(filtered_df)"
      ],
      "metadata": {
        "id": "QWhplw1axSDD"
      },
      "execution_count": null,
      "outputs": []
    },
    {
      "cell_type": "code",
      "source": [
        "10. How can you create a histogram using Seaborn to visualize a distribution?\n",
        "\n",
        "import seaborn as sns\n",
        "import matplotlib.pyplot as plt\n",
        "\n",
        "data = [10, 20, 20, 30, 30, 30, 40, 40, 50]\n",
        "sns.histplot(data, bins=5, kde=True, color='skyblue')\n",
        "plt.title(\"Distribution Histogram\")\n",
        "plt.xlabel(\"Values\")\n",
        "plt.ylabel(\"Frequency\")\n",
        "plt.show()"
      ],
      "metadata": {
        "id": "Hl_0P1xVxR_n"
      },
      "execution_count": null,
      "outputs": []
    },
    {
      "cell_type": "code",
      "source": [
        "11. How do you perform matrix multiplication using NumPy?\n",
        "\n",
        "import numpy as np\n",
        "\n",
        "A = np.array([[1, 2], [3, 4]])\n",
        "B = np.array([[5, 6], [7, 8]])\n",
        "\n",
        "result = np.dot(A, B)\n",
        "print(\"Matrix multiplication result:\")\n",
        "print(result)"
      ],
      "metadata": {
        "id": "ukUvDArwxR8T"
      },
      "execution_count": null,
      "outputs": []
    },
    {
      "cell_type": "code",
      "source": [
        "12. How can you use Pandas to load a CSV file and display its first 5 rows?\n",
        "\n",
        "import pandas as pd\n",
        "\n",
        "# Make sure you have a file called 'data.csv' in your working directory\n",
        "df = pd.read_csv('data.csv')\n",
        "print(\"First 5 rows of the CSV file:\")\n",
        "print(df.head())"
      ],
      "metadata": {
        "id": "lwb0FUL6xR4X"
      },
      "execution_count": null,
      "outputs": []
    }
  ]
}